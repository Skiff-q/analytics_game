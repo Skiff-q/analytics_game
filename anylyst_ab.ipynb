{
 "cells": [
  {
   "cell_type": "code",
   "execution_count": 1,
   "id": "65d5c2a8",
   "metadata": {},
   "outputs": [],
   "source": [
    "import numpy as np\n",
    "import pandas as pd\n",
    "\n",
    "from matplotlib import pyplot as plt\n",
    "import seaborn as sns \n",
    "\n",
    "from scipy import stats\n",
    "import math\n",
    "\n",
    "from datetime import datetime, timedelta\n",
    "\n",
    "from statsmodels.stats.proportion import proportions_ztest"
   ]
  },
  {
   "cell_type": "markdown",
   "id": "6a85b014",
   "metadata": {},
   "source": [
    "### Создание датасетов"
   ]
  },
  {
   "cell_type": "code",
   "execution_count": 2,
   "id": "e7ad3169",
   "metadata": {},
   "outputs": [
    {
     "data": {
      "text/html": [
       "<div>\n",
       "<style scoped>\n",
       "    .dataframe tbody tr th:only-of-type {\n",
       "        vertical-align: middle;\n",
       "    }\n",
       "\n",
       "    .dataframe tbody tr th {\n",
       "        vertical-align: top;\n",
       "    }\n",
       "\n",
       "    .dataframe thead th {\n",
       "        text-align: right;\n",
       "    }\n",
       "</style>\n",
       "<table border=\"1\" class=\"dataframe\">\n",
       "  <thead>\n",
       "    <tr style=\"text-align: right;\">\n",
       "      <th></th>\n",
       "      <th>user_id</th>\n",
       "      <th>event_name</th>\n",
       "      <th>event_dt</th>\n",
       "      <th>dt</th>\n",
       "      <th>region</th>\n",
       "    </tr>\n",
       "  </thead>\n",
       "  <tbody>\n",
       "    <tr>\n",
       "      <th>0</th>\n",
       "      <td>--014ca35_b7</td>\n",
       "      <td>login</td>\n",
       "      <td>2020-05-09 04:20:12</td>\n",
       "      <td>2020-05-09</td>\n",
       "      <td>North America</td>\n",
       "    </tr>\n",
       "    <tr>\n",
       "      <th>1</th>\n",
       "      <td>--014ca35_b7</td>\n",
       "      <td>tutorial_completed</td>\n",
       "      <td>2020-05-09 04:20:13</td>\n",
       "      <td>2020-05-09</td>\n",
       "      <td>North America</td>\n",
       "    </tr>\n",
       "    <tr>\n",
       "      <th>2</th>\n",
       "      <td>--014ca35_b7</td>\n",
       "      <td>tuturial_started</td>\n",
       "      <td>2020-05-09 04:20:11</td>\n",
       "      <td>2020-05-09</td>\n",
       "      <td>North America</td>\n",
       "    </tr>\n",
       "    <tr>\n",
       "      <th>3</th>\n",
       "      <td>--0424774bcb</td>\n",
       "      <td>login</td>\n",
       "      <td>2020-05-30 07:23:03</td>\n",
       "      <td>2020-05-30</td>\n",
       "      <td>CIS</td>\n",
       "    </tr>\n",
       "    <tr>\n",
       "      <th>4</th>\n",
       "      <td>--0424774bcb</td>\n",
       "      <td>tutorial_completed</td>\n",
       "      <td>2020-05-30 07:23:05</td>\n",
       "      <td>2020-05-30</td>\n",
       "      <td>CIS</td>\n",
       "    </tr>\n",
       "    <tr>\n",
       "      <th>...</th>\n",
       "      <td>...</td>\n",
       "      <td>...</td>\n",
       "      <td>...</td>\n",
       "      <td>...</td>\n",
       "      <td>...</td>\n",
       "    </tr>\n",
       "    <tr>\n",
       "      <th>80249</th>\n",
       "      <td>fff7d81ca3_5</td>\n",
       "      <td>tutorial_completed</td>\n",
       "      <td>2020-05-31 18:55:50</td>\n",
       "      <td>2020-05-31</td>\n",
       "      <td>Africa</td>\n",
       "    </tr>\n",
       "    <tr>\n",
       "      <th>80250</th>\n",
       "      <td>fff7d81ca3_5</td>\n",
       "      <td>tuturial_started</td>\n",
       "      <td>2020-05-31 18:55:47</td>\n",
       "      <td>2020-05-31</td>\n",
       "      <td>Africa</td>\n",
       "    </tr>\n",
       "    <tr>\n",
       "      <th>80251</th>\n",
       "      <td>fff88bbb3_c8</td>\n",
       "      <td>login</td>\n",
       "      <td>2020-05-28 13:14:36</td>\n",
       "      <td>2020-05-28</td>\n",
       "      <td>SEA</td>\n",
       "    </tr>\n",
       "    <tr>\n",
       "      <th>80252</th>\n",
       "      <td>fff88bbb3_c8</td>\n",
       "      <td>tutorial_completed</td>\n",
       "      <td>2020-05-28 13:14:38</td>\n",
       "      <td>2020-05-28</td>\n",
       "      <td>SEA</td>\n",
       "    </tr>\n",
       "    <tr>\n",
       "      <th>80253</th>\n",
       "      <td>fff88bbb3_c8</td>\n",
       "      <td>tuturial_started</td>\n",
       "      <td>2020-05-28 13:14:33</td>\n",
       "      <td>2020-05-28</td>\n",
       "      <td>SEA</td>\n",
       "    </tr>\n",
       "  </tbody>\n",
       "</table>\n",
       "<p>80254 rows × 5 columns</p>\n",
       "</div>"
      ],
      "text/plain": [
       "            user_id          event_name             event_dt          dt  \\\n",
       "0      --014ca35_b7               login  2020-05-09 04:20:12  2020-05-09   \n",
       "1      --014ca35_b7  tutorial_completed  2020-05-09 04:20:13  2020-05-09   \n",
       "2      --014ca35_b7    tuturial_started  2020-05-09 04:20:11  2020-05-09   \n",
       "3      --0424774bcb               login  2020-05-30 07:23:03  2020-05-30   \n",
       "4      --0424774bcb  tutorial_completed  2020-05-30 07:23:05  2020-05-30   \n",
       "...             ...                 ...                  ...         ...   \n",
       "80249  fff7d81ca3_5  tutorial_completed  2020-05-31 18:55:50  2020-05-31   \n",
       "80250  fff7d81ca3_5    tuturial_started  2020-05-31 18:55:47  2020-05-31   \n",
       "80251  fff88bbb3_c8               login  2020-05-28 13:14:36  2020-05-28   \n",
       "80252  fff88bbb3_c8  tutorial_completed  2020-05-28 13:14:38  2020-05-28   \n",
       "80253  fff88bbb3_c8    tuturial_started  2020-05-28 13:14:33  2020-05-28   \n",
       "\n",
       "              region  \n",
       "0      North America  \n",
       "1      North America  \n",
       "2      North America  \n",
       "3                CIS  \n",
       "4                CIS  \n",
       "...              ...  \n",
       "80249         Africa  \n",
       "80250         Africa  \n",
       "80251            SEA  \n",
       "80252            SEA  \n",
       "80253            SEA  \n",
       "\n",
       "[80254 rows x 5 columns]"
      ]
     },
     "execution_count": 2,
     "metadata": {},
     "output_type": "execute_result"
    }
   ],
   "source": [
    "history = pd.read_csv('funnel_history_.csv')\n",
    "history"
   ]
  },
  {
   "cell_type": "code",
   "execution_count": 3,
   "id": "9d59e52f",
   "metadata": {},
   "outputs": [
    {
     "data": {
      "text/plain": [
       "user_id    985.806452\n",
       "dtype: float64"
      ]
     },
     "execution_count": 3,
     "metadata": {},
     "output_type": "execute_result"
    }
   ],
   "source": [
    "new_users = history.groupby(by='dt').agg({'user_id': 'nunique'})\n",
    "new_users.mean()"
   ]
  },
  {
   "cell_type": "code",
   "execution_count": 4,
   "id": "a712c8c3",
   "metadata": {},
   "outputs": [
    {
     "data": {
      "text/html": [
       "<style type=\"text/css\">\n",
       "</style>\n",
       "<table id=\"T_e9b17\">\n",
       "  <thead>\n",
       "    <tr>\n",
       "      <th class=\"blank level0\" >&nbsp;</th>\n",
       "      <th id=\"T_e9b17_level0_col0\" class=\"col_heading level0 col0\" >user_id</th>\n",
       "      <th id=\"T_e9b17_level0_col1\" class=\"col_heading level0 col1\" >%</th>\n",
       "    </tr>\n",
       "    <tr>\n",
       "      <th class=\"index_name level0\" >event_name</th>\n",
       "      <th class=\"blank col0\" >&nbsp;</th>\n",
       "      <th class=\"blank col1\" >&nbsp;</th>\n",
       "    </tr>\n",
       "  </thead>\n",
       "  <tbody>\n",
       "    <tr>\n",
       "      <th id=\"T_e9b17_level0_row0\" class=\"row_heading level0 row0\" >login</th>\n",
       "      <td id=\"T_e9b17_row0_col0\" class=\"data row0 col0\" >30560</td>\n",
       "      <td id=\"T_e9b17_row0_col1\" class=\"data row0 col1\" >100.00%</td>\n",
       "    </tr>\n",
       "    <tr>\n",
       "      <th id=\"T_e9b17_level0_row1\" class=\"row_heading level0 row1\" >tuturial_started</th>\n",
       "      <td id=\"T_e9b17_row1_col0\" class=\"data row1 col0\" >27408</td>\n",
       "      <td id=\"T_e9b17_row1_col1\" class=\"data row1 col1\" >89.69%</td>\n",
       "    </tr>\n",
       "    <tr>\n",
       "      <th id=\"T_e9b17_level0_row2\" class=\"row_heading level0 row2\" >tutorial_completed</th>\n",
       "      <td id=\"T_e9b17_row2_col0\" class=\"data row2 col0\" >22286</td>\n",
       "      <td id=\"T_e9b17_row2_col1\" class=\"data row2 col1\" >72.93%</td>\n",
       "    </tr>\n",
       "  </tbody>\n",
       "</table>\n"
      ],
      "text/plain": [
       "<pandas.io.formats.style.Styler at 0x19768895a90>"
      ]
     },
     "execution_count": 4,
     "metadata": {},
     "output_type": "execute_result"
    }
   ],
   "source": [
    "history_event = history.groupby(by='event_name').agg({'user_id': 'nunique'}).sort_values('user_id', ascending = False)\n",
    "history_event['%'] = history_event['user_id'] / history_event['user_id'][0]\n",
    "history_event.style.format({'%' : '{:.2%}'})"
   ]
  },
  {
   "cell_type": "markdown",
   "id": "54265312",
   "metadata": {},
   "source": [
    "Рассчитаю необходимую длительность A/B-теста, считая, что:\n",
    "\n",
    "Уровень значимости (alpha) и мощность (beta) равны 0.05 и 0.8;\n",
    "Ваши коллеги ожидают, что новый туториал повысит вероятность прохождения обучения на 3.8% (0.038).\n",
    "Не забудь учесть сезонность;"
   ]
  },
  {
   "cell_type": "code",
   "execution_count": 5,
   "id": "17578c02",
   "metadata": {},
   "outputs": [],
   "source": [
    "# Расчет длительности теста\n",
    "def get_sample_size(mean, # среднее метрики\n",
    "                    std, # среднеквадратическое отклонение (СКО) метрики\n",
    "                    relative_practical_significance, # минимальный эффект - процент изменений среднего метрики, который мы хотим обнаружить\n",
    "                    alpha, # уровень значимости (вероятность обнаружить эффект случайно)\n",
    "                    power, # мощность (вероятность Не отбросить случайно реально существующий эффект)\n",
    "                   ):\n",
    "    z = stats.norm.ppf(1 - alpha / 2) + abs(stats.norm.ppf(1 - power))\n",
    "    d = mean * relative_practical_significance\n",
    "    \n",
    "    return math.ceil(2 * ((std * z / d) ** 2))"
   ]
  },
  {
   "cell_type": "code",
   "execution_count": 6,
   "id": "a8c31fc3",
   "metadata": {},
   "outputs": [
    {
     "data": {
      "text/plain": [
       "(0.05, 0.8)"
      ]
     },
     "execution_count": 6,
     "metadata": {},
     "output_type": "execute_result"
    }
   ],
   "source": [
    "alpha = 0.05\n",
    "power = 0.8\n",
    "alpha, power"
   ]
  },
  {
   "cell_type": "code",
   "execution_count": 7,
   "id": "276245b8",
   "metadata": {},
   "outputs": [
    {
     "name": "stdout",
     "output_type": "stream",
     "text": [
      "Средняя конверсия: 72.93%, СКО конверсии: 0.44\n"
     ]
    }
   ],
   "source": [
    "p = len(history.query('event_name == \"tutorial_completed\"')['user_id'].unique()) / len(history.query('event_name == \"login\"')['user_id'].unique())\n",
    "conversion_mean = p\n",
    "conversion_std = np.sqrt(p * (1 - p))\n",
    "\n",
    "print(f'Средняя конверсия: {conversion_mean:.2%}, СКО конверсии: {conversion_std:.2f}')"
   ]
  },
  {
   "cell_type": "code",
   "execution_count": 8,
   "id": "6fd2c296",
   "metadata": {},
   "outputs": [
    {
     "data": {
      "text/plain": [
       "4037"
      ]
     },
     "execution_count": 8,
     "metadata": {},
     "output_type": "execute_result"
    }
   ],
   "source": [
    "# Рассчитаю необходимую длительность A/B-теста\n",
    "sample_size = get_sample_size(conversion_mean, conversion_std, 0.038, alpha, power)\n",
    "sample_size "
   ]
  },
  {
   "cell_type": "markdown",
   "id": "b31563fe",
   "metadata": {},
   "source": [
    "Число дней найдем по формуле:нужный_размер_выборки / среднее_число_новых_пользователей_в_день\n",
    "Поскольку групп в тесте у нас 2, то нам нужно будет умножить результат на 2"
   ]
  },
  {
   "cell_type": "code",
   "execution_count": 9,
   "id": "e09e8b73",
   "metadata": {},
   "outputs": [],
   "source": [
    "# среднее число новых пользователей в день\n",
    "new_users = history.groupby(by='dt').agg({'user_id': 'nunique'})\n",
    "new_daily_users = new_users.mean()[0]"
   ]
  },
  {
   "cell_type": "code",
   "execution_count": 10,
   "id": "0dc08f23",
   "metadata": {},
   "outputs": [
    {
     "name": "stdout",
     "output_type": "stream",
     "text": [
      "Среднее число новых пользователей в день: 986, нужный размер выборки: 8074\n"
     ]
    }
   ],
   "source": [
    "desired_sample_size = sample_size * 2 # нужный размер выборки для двух групп\n",
    "print(f'Среднее число новых пользователей в день: {new_daily_users:.0f}, нужный размер выборки: {desired_sample_size}')"
   ]
  },
  {
   "cell_type": "code",
   "execution_count": 11,
   "id": "abe208e7",
   "metadata": {},
   "outputs": [
    {
     "name": "stdout",
     "output_type": "stream",
     "text": [
      "На проведение теста потребуется: 8 дней\n"
     ]
    }
   ],
   "source": [
    "test_days_num = desired_sample_size / new_daily_users\n",
    "print(f'На проведение теста потребуется: {test_days_num:.0f} дней')"
   ]
  },
  {
   "cell_type": "code",
   "execution_count": 12,
   "id": "d4f8c112",
   "metadata": {},
   "outputs": [],
   "source": [
    "# Учитываем сезонность потребность на проведение теста увеличиваем до 14 дней"
   ]
  },
  {
   "cell_type": "markdown",
   "id": "6abecf3f",
   "metadata": {},
   "source": [
    "### Оценка корректности проведения теста"
   ]
  },
  {
   "cell_type": "markdown",
   "id": "3fd9a126",
   "metadata": {},
   "source": [
    "Тест решено было запустить 14.06.2020. Сегодня 19.06.2020, тест идет уже 5 дней. Оцените корректность проведения теста. С помощью статистического теста проверьте, попадают ли пользователи в с равной вероятностью в обе тестовые группы."
   ]
  },
  {
   "cell_type": "code",
   "execution_count": 13,
   "id": "80bdf18c",
   "metadata": {},
   "outputs": [
    {
     "data": {
      "text/html": [
       "<div>\n",
       "<style scoped>\n",
       "    .dataframe tbody tr th:only-of-type {\n",
       "        vertical-align: middle;\n",
       "    }\n",
       "\n",
       "    .dataframe tbody tr th {\n",
       "        vertical-align: top;\n",
       "    }\n",
       "\n",
       "    .dataframe thead th {\n",
       "        text-align: right;\n",
       "    }\n",
       "</style>\n",
       "<table border=\"1\" class=\"dataframe\">\n",
       "  <thead>\n",
       "    <tr style=\"text-align: right;\">\n",
       "      <th></th>\n",
       "      <th>user_id</th>\n",
       "      <th>test_name</th>\n",
       "      <th>test_group</th>\n",
       "    </tr>\n",
       "  </thead>\n",
       "  <tbody>\n",
       "    <tr>\n",
       "      <th>0</th>\n",
       "      <td>-5dabb4f564d</td>\n",
       "      <td>new_tutorial_test</td>\n",
       "      <td>A</td>\n",
       "    </tr>\n",
       "    <tr>\n",
       "      <th>1</th>\n",
       "      <td>9d335_2101b0</td>\n",
       "      <td>new_tutorial_test</td>\n",
       "      <td>A</td>\n",
       "    </tr>\n",
       "    <tr>\n",
       "      <th>2</th>\n",
       "      <td>29_1_-d06009</td>\n",
       "      <td>new_tutorial_test</td>\n",
       "      <td>A</td>\n",
       "    </tr>\n",
       "    <tr>\n",
       "      <th>3</th>\n",
       "      <td>4-11cdb_323_</td>\n",
       "      <td>new_tutorial_test</td>\n",
       "      <td>A</td>\n",
       "    </tr>\n",
       "    <tr>\n",
       "      <th>4</th>\n",
       "      <td>09a-1df--3-8</td>\n",
       "      <td>new_tutorial_test</td>\n",
       "      <td>A</td>\n",
       "    </tr>\n",
       "    <tr>\n",
       "      <th>...</th>\n",
       "      <td>...</td>\n",
       "      <td>...</td>\n",
       "      <td>...</td>\n",
       "    </tr>\n",
       "    <tr>\n",
       "      <th>2830</th>\n",
       "      <td>da548a441d78</td>\n",
       "      <td>new_tutorial_test</td>\n",
       "      <td>B</td>\n",
       "    </tr>\n",
       "    <tr>\n",
       "      <th>2831</th>\n",
       "      <td>4df97d74a826</td>\n",
       "      <td>new_tutorial_test</td>\n",
       "      <td>B</td>\n",
       "    </tr>\n",
       "    <tr>\n",
       "      <th>2832</th>\n",
       "      <td>49-8-d102058</td>\n",
       "      <td>new_tutorial_test</td>\n",
       "      <td>B</td>\n",
       "    </tr>\n",
       "    <tr>\n",
       "      <th>2833</th>\n",
       "      <td>8-512dcc03-6</td>\n",
       "      <td>new_tutorial_test</td>\n",
       "      <td>B</td>\n",
       "    </tr>\n",
       "    <tr>\n",
       "      <th>2834</th>\n",
       "      <td>a8d991_77f68</td>\n",
       "      <td>new_tutorial_test</td>\n",
       "      <td>B</td>\n",
       "    </tr>\n",
       "  </tbody>\n",
       "</table>\n",
       "<p>2835 rows × 3 columns</p>\n",
       "</div>"
      ],
      "text/plain": [
       "           user_id          test_name test_group\n",
       "0     -5dabb4f564d  new_tutorial_test          A\n",
       "1     9d335_2101b0  new_tutorial_test          A\n",
       "2     29_1_-d06009  new_tutorial_test          A\n",
       "3     4-11cdb_323_  new_tutorial_test          A\n",
       "4     09a-1df--3-8  new_tutorial_test          A\n",
       "...            ...                ...        ...\n",
       "2830  da548a441d78  new_tutorial_test          B\n",
       "2831  4df97d74a826  new_tutorial_test          B\n",
       "2832  49-8-d102058  new_tutorial_test          B\n",
       "2833  8-512dcc03-6  new_tutorial_test          B\n",
       "2834  a8d991_77f68  new_tutorial_test          B\n",
       "\n",
       "[2835 rows x 3 columns]"
      ]
     },
     "execution_count": 13,
     "metadata": {},
     "output_type": "execute_result"
    }
   ],
   "source": [
    "participants = pd.read_csv('participants_run_.csv')\n",
    "participants"
   ]
  },
  {
   "cell_type": "code",
   "execution_count": 14,
   "id": "a2c6ee07",
   "metadata": {},
   "outputs": [
    {
     "data": {
      "text/plain": [
       "array(['new_tutorial_test'], dtype=object)"
      ]
     },
     "execution_count": 14,
     "metadata": {},
     "output_type": "execute_result"
    }
   ],
   "source": [
    "participants['test_name'].unique()"
   ]
  },
  {
   "cell_type": "code",
   "execution_count": 15,
   "id": "253fadcb",
   "metadata": {},
   "outputs": [
    {
     "data": {
      "text/html": [
       "<div>\n",
       "<style scoped>\n",
       "    .dataframe tbody tr th:only-of-type {\n",
       "        vertical-align: middle;\n",
       "    }\n",
       "\n",
       "    .dataframe tbody tr th {\n",
       "        vertical-align: top;\n",
       "    }\n",
       "\n",
       "    .dataframe thead th {\n",
       "        text-align: right;\n",
       "    }\n",
       "</style>\n",
       "<table border=\"1\" class=\"dataframe\">\n",
       "  <thead>\n",
       "    <tr style=\"text-align: right;\">\n",
       "      <th></th>\n",
       "      <th></th>\n",
       "      <th>Участники</th>\n",
       "      <th>%</th>\n",
       "    </tr>\n",
       "    <tr>\n",
       "      <th>test_name</th>\n",
       "      <th>test_group</th>\n",
       "      <th></th>\n",
       "      <th></th>\n",
       "    </tr>\n",
       "  </thead>\n",
       "  <tbody>\n",
       "    <tr>\n",
       "      <th rowspan=\"2\" valign=\"top\">new_tutorial_test</th>\n",
       "      <th>A</th>\n",
       "      <td>1368</td>\n",
       "      <td>0.48</td>\n",
       "    </tr>\n",
       "    <tr>\n",
       "      <th>B</th>\n",
       "      <td>1467</td>\n",
       "      <td>0.52</td>\n",
       "    </tr>\n",
       "  </tbody>\n",
       "</table>\n",
       "</div>"
      ],
      "text/plain": [
       "                              Участники     %\n",
       "test_name         test_group                 \n",
       "new_tutorial_test A                1368  0.48\n",
       "                  B                1467  0.52"
      ]
     },
     "execution_count": 15,
     "metadata": {},
     "output_type": "execute_result"
    }
   ],
   "source": [
    "participants_ab = participants.groupby(by=['test_name','test_group']).agg({'user_id': 'nunique'}).rename(columns = {'user_id': 'Участники'})\n",
    "participants_ab['%'] = (participants_ab['Участники'] / participants_ab['Участники'].sum()).round(2)\n",
    "participants_ab"
   ]
  },
  {
   "cell_type": "code",
   "execution_count": 16,
   "id": "cde6ed96",
   "metadata": {},
   "outputs": [
    {
     "name": "stdout",
     "output_type": "stream",
     "text": [
      "p-value: 0.06281848165225283\n",
      "Нулевая гипотеза не отвергается: вероятность попасть в группу A составляет 50%\n"
     ]
    }
   ],
   "source": [
    "a_users = participants.query('test_group == \"A\"').shape[0]\n",
    "all_users = participants.shape[0]\n",
    "\n",
    "alpha = 0.05\n",
    "p_value = proportions_ztest(a_users, all_users, value = 0.5)[1]\n",
    "print(f'p-value: {p_value}')\n",
    "if p_value >= alpha:\n",
    "    print('Нулевая гипотеза не отвергается: вероятность попасть в группу A составляет 50%')\n",
    "else:\n",
    "     print('Нулевая гипотеза отвергается: вероятность попасть в группу A не составляет 50%')"
   ]
  },
  {
   "cell_type": "markdown",
   "id": "874dbd3a",
   "metadata": {},
   "source": [
    "#### Видим, что вероятность попасть в группу B составляет более 50%, отличие небольшое, попадаем в доверительный интервал. Продолжаем тест "
   ]
  },
  {
   "cell_type": "code",
   "execution_count": 17,
   "id": "6acbdf7a",
   "metadata": {},
   "outputs": [
    {
     "data": {
      "text/html": [
       "<div>\n",
       "<style scoped>\n",
       "    .dataframe tbody tr th:only-of-type {\n",
       "        vertical-align: middle;\n",
       "    }\n",
       "\n",
       "    .dataframe tbody tr th {\n",
       "        vertical-align: top;\n",
       "    }\n",
       "\n",
       "    .dataframe thead th {\n",
       "        text-align: right;\n",
       "    }\n",
       "</style>\n",
       "<table border=\"1\" class=\"dataframe\">\n",
       "  <thead>\n",
       "    <tr style=\"text-align: right;\">\n",
       "      <th></th>\n",
       "      <th>test_group</th>\n",
       "    </tr>\n",
       "    <tr>\n",
       "      <th>user_id</th>\n",
       "      <th></th>\n",
       "    </tr>\n",
       "  </thead>\n",
       "  <tbody>\n",
       "  </tbody>\n",
       "</table>\n",
       "</div>"
      ],
      "text/plain": [
       "Empty DataFrame\n",
       "Columns: [test_group]\n",
       "Index: []"
      ]
     },
     "execution_count": 17,
     "metadata": {},
     "output_type": "execute_result"
    }
   ],
   "source": [
    "# Теперь проверим есть ли у нас участники попавшие сразу в две группы\n",
    "participants.groupby('user_id').agg({'test_group': 'nunique'}).query('test_group > 1')"
   ]
  },
  {
   "cell_type": "markdown",
   "id": "35c2413e",
   "metadata": {},
   "source": [
    "Таких пользователей не оказалось"
   ]
  },
  {
   "cell_type": "code",
   "execution_count": 18,
   "id": "27a2ff30",
   "metadata": {},
   "outputs": [
    {
     "name": "stdout",
     "output_type": "stream",
     "text": [
      "Ожидаемое число пользователей: 8074, Текущее число пользователей: 2835\n"
     ]
    }
   ],
   "source": [
    "# Проверим, не пора ли останавливать тест\n",
    "print(f'Ожидаемое число пользователей: {desired_sample_size}, Текущее число пользователей: {participants.count()[0]}')"
   ]
  },
  {
   "cell_type": "markdown",
   "id": "6da3c3a6",
   "metadata": {},
   "source": [
    "Тест останавливать еще рано, можем пропустить полезный эффект при проведении стат-тестов. Продолжаем собирать данные"
   ]
  },
  {
   "cell_type": "markdown",
   "id": "3e5d7428",
   "metadata": {},
   "source": [
    "### Анализ результатов теста"
   ]
  },
  {
   "cell_type": "code",
   "execution_count": 19,
   "id": "54382a82",
   "metadata": {},
   "outputs": [
    {
     "data": {
      "text/html": [
       "<div>\n",
       "<style scoped>\n",
       "    .dataframe tbody tr th:only-of-type {\n",
       "        vertical-align: middle;\n",
       "    }\n",
       "\n",
       "    .dataframe tbody tr th {\n",
       "        vertical-align: top;\n",
       "    }\n",
       "\n",
       "    .dataframe thead th {\n",
       "        text-align: right;\n",
       "    }\n",
       "</style>\n",
       "<table border=\"1\" class=\"dataframe\">\n",
       "  <thead>\n",
       "    <tr style=\"text-align: right;\">\n",
       "      <th></th>\n",
       "      <th>user_id</th>\n",
       "      <th>event_name</th>\n",
       "      <th>event_dt</th>\n",
       "      <th>test_group</th>\n",
       "    </tr>\n",
       "  </thead>\n",
       "  <tbody>\n",
       "    <tr>\n",
       "      <th>0</th>\n",
       "      <td>--0879c8c638</td>\n",
       "      <td>login</td>\n",
       "      <td>2020-06-22 07:53:05</td>\n",
       "      <td>A</td>\n",
       "    </tr>\n",
       "    <tr>\n",
       "      <th>1</th>\n",
       "      <td>--0879c8c638</td>\n",
       "      <td>tutorial_completed</td>\n",
       "      <td>2020-06-22 07:53:02</td>\n",
       "      <td>A</td>\n",
       "    </tr>\n",
       "    <tr>\n",
       "      <th>2</th>\n",
       "      <td>--0879c8c638</td>\n",
       "      <td>tuturial_started</td>\n",
       "      <td>2020-06-22 07:53:12</td>\n",
       "      <td>A</td>\n",
       "    </tr>\n",
       "    <tr>\n",
       "      <th>3</th>\n",
       "      <td>--10-567_cd0</td>\n",
       "      <td>login</td>\n",
       "      <td>2020-06-26 13:14:00</td>\n",
       "      <td>A</td>\n",
       "    </tr>\n",
       "    <tr>\n",
       "      <th>4</th>\n",
       "      <td>--10-567_cd0</td>\n",
       "      <td>tuturial_started</td>\n",
       "      <td>2020-06-26 13:14:02</td>\n",
       "      <td>A</td>\n",
       "    </tr>\n",
       "    <tr>\n",
       "      <th>...</th>\n",
       "      <td>...</td>\n",
       "      <td>...</td>\n",
       "      <td>...</td>\n",
       "      <td>...</td>\n",
       "    </tr>\n",
       "    <tr>\n",
       "      <th>22440</th>\n",
       "      <td>fff34d_b25d7</td>\n",
       "      <td>login</td>\n",
       "      <td>2020-06-14 01:16:34</td>\n",
       "      <td>B</td>\n",
       "    </tr>\n",
       "    <tr>\n",
       "      <th>22441</th>\n",
       "      <td>fff34d_b25d7</td>\n",
       "      <td>tutorial_completed</td>\n",
       "      <td>2020-06-14 01:16:38</td>\n",
       "      <td>B</td>\n",
       "    </tr>\n",
       "    <tr>\n",
       "      <th>22442</th>\n",
       "      <td>fff34d_b25d7</td>\n",
       "      <td>tuturial_started</td>\n",
       "      <td>2020-06-14 01:16:37</td>\n",
       "      <td>B</td>\n",
       "    </tr>\n",
       "    <tr>\n",
       "      <th>22443</th>\n",
       "      <td>fffa52af06d-</td>\n",
       "      <td>login</td>\n",
       "      <td>2020-06-19 10:48:31</td>\n",
       "      <td>B</td>\n",
       "    </tr>\n",
       "    <tr>\n",
       "      <th>22444</th>\n",
       "      <td>fffa52af06d-</td>\n",
       "      <td>tuturial_started</td>\n",
       "      <td>2020-06-19 10:48:31</td>\n",
       "      <td>B</td>\n",
       "    </tr>\n",
       "  </tbody>\n",
       "</table>\n",
       "<p>22445 rows × 4 columns</p>\n",
       "</div>"
      ],
      "text/plain": [
       "            user_id          event_name             event_dt test_group\n",
       "0      --0879c8c638               login  2020-06-22 07:53:05          A\n",
       "1      --0879c8c638  tutorial_completed  2020-06-22 07:53:02          A\n",
       "2      --0879c8c638    tuturial_started  2020-06-22 07:53:12          A\n",
       "3      --10-567_cd0               login  2020-06-26 13:14:00          A\n",
       "4      --10-567_cd0    tuturial_started  2020-06-26 13:14:02          A\n",
       "...             ...                 ...                  ...        ...\n",
       "22440  fff34d_b25d7               login  2020-06-14 01:16:34          B\n",
       "22441  fff34d_b25d7  tutorial_completed  2020-06-14 01:16:38          B\n",
       "22442  fff34d_b25d7    tuturial_started  2020-06-14 01:16:37          B\n",
       "22443  fffa52af06d-               login  2020-06-19 10:48:31          B\n",
       "22444  fffa52af06d-    tuturial_started  2020-06-19 10:48:31          B\n",
       "\n",
       "[22445 rows x 4 columns]"
      ]
     },
     "execution_count": 19,
     "metadata": {},
     "output_type": "execute_result"
    }
   ],
   "source": [
    "test_events = pd.read_csv('funnel_test_.csv')\n",
    "test_events"
   ]
  },
  {
   "cell_type": "code",
   "execution_count": 20,
   "id": "801da409",
   "metadata": {},
   "outputs": [
    {
     "name": "stdout",
     "output_type": "stream",
     "text": [
      "ожидаемое число пользователей: 8074, Текущее число пользователей: 8551\n"
     ]
    }
   ],
   "source": [
    "print(f'ожидаемое число пользователей: {desired_sample_size}, Текущее число пользователей: {test_events[\"user_id\"].nunique()}')"
   ]
  },
  {
   "cell_type": "code",
   "execution_count": 21,
   "id": "cb712ff7",
   "metadata": {},
   "outputs": [
    {
     "data": {
      "text/html": [
       "<div>\n",
       "<style scoped>\n",
       "    .dataframe tbody tr th:only-of-type {\n",
       "        vertical-align: middle;\n",
       "    }\n",
       "\n",
       "    .dataframe tbody tr th {\n",
       "        vertical-align: top;\n",
       "    }\n",
       "\n",
       "    .dataframe thead th {\n",
       "        text-align: right;\n",
       "    }\n",
       "</style>\n",
       "<table border=\"1\" class=\"dataframe\">\n",
       "  <thead>\n",
       "    <tr style=\"text-align: right;\">\n",
       "      <th></th>\n",
       "      <th>user_id</th>\n",
       "    </tr>\n",
       "    <tr>\n",
       "      <th>test_group</th>\n",
       "      <th></th>\n",
       "    </tr>\n",
       "  </thead>\n",
       "  <tbody>\n",
       "    <tr>\n",
       "      <th>A</th>\n",
       "      <td>4226</td>\n",
       "    </tr>\n",
       "    <tr>\n",
       "      <th>B</th>\n",
       "      <td>4325</td>\n",
       "    </tr>\n",
       "  </tbody>\n",
       "</table>\n",
       "</div>"
      ],
      "text/plain": [
       "            user_id\n",
       "test_group         \n",
       "A              4226\n",
       "B              4325"
      ]
     },
     "execution_count": 21,
     "metadata": {},
     "output_type": "execute_result"
    }
   ],
   "source": [
    "test_events.groupby(by = 'test_group').agg({'user_id': 'nunique'})"
   ]
  },
  {
   "cell_type": "code",
   "execution_count": 22,
   "id": "d6b4896f",
   "metadata": {},
   "outputs": [],
   "source": [
    "# уровень значимости\n",
    "alpha = 0.05"
   ]
  },
  {
   "cell_type": "code",
   "execution_count": 23,
   "id": "88ecdf6d",
   "metadata": {},
   "outputs": [
    {
     "data": {
      "text/html": [
       "<div>\n",
       "<style scoped>\n",
       "    .dataframe tbody tr th:only-of-type {\n",
       "        vertical-align: middle;\n",
       "    }\n",
       "\n",
       "    .dataframe tbody tr th {\n",
       "        vertical-align: top;\n",
       "    }\n",
       "\n",
       "    .dataframe thead th {\n",
       "        text-align: right;\n",
       "    }\n",
       "</style>\n",
       "<table border=\"1\" class=\"dataframe\">\n",
       "  <thead>\n",
       "    <tr style=\"text-align: right;\">\n",
       "      <th></th>\n",
       "      <th>user_id</th>\n",
       "      <th>conversion</th>\n",
       "    </tr>\n",
       "    <tr>\n",
       "      <th>test_group</th>\n",
       "      <th></th>\n",
       "      <th></th>\n",
       "    </tr>\n",
       "  </thead>\n",
       "  <tbody>\n",
       "    <tr>\n",
       "      <th>A</th>\n",
       "      <td>4226</td>\n",
       "      <td>0.49</td>\n",
       "    </tr>\n",
       "    <tr>\n",
       "      <th>B</th>\n",
       "      <td>4325</td>\n",
       "      <td>0.51</td>\n",
       "    </tr>\n",
       "  </tbody>\n",
       "</table>\n",
       "</div>"
      ],
      "text/plain": [
       "            user_id  conversion\n",
       "test_group                     \n",
       "A              4226        0.49\n",
       "B              4325        0.51"
      ]
     },
     "execution_count": 23,
     "metadata": {},
     "output_type": "execute_result"
    }
   ],
   "source": [
    "test_new_users = test_events.groupby(by = 'test_group').agg({'user_id': 'nunique'})\n",
    "test_new_users['conversion'] = (test_new_users['user_id'] / test_new_users['user_id'].sum()).round(2)\n",
    "test_new_users"
   ]
  },
  {
   "cell_type": "code",
   "execution_count": 24,
   "id": "d32ecc86",
   "metadata": {},
   "outputs": [
    {
     "data": {
      "image/png": "[encoded data removed]",
      "text/plain": [
       "<Figure size 720x360 with 1 Axes>"
      ]
     },
     "metadata": {
      "needs_background": "light"
     },
     "output_type": "display_data"
    }
   ],
   "source": [
    "report = test_events.pivot_table(index = 'event_name', columns = 'test_group', values = 'user_id', aggfunc = 'nunique')\n",
    "report = report.sort_values(by = 'A', ascending = False)\n",
    "report['A'] = report['A'] / report['A'].login\n",
    "report['B'] = report['B'] / report['B'].login\n",
    "report.plot(figsize=(10,5))\n",
    "plt.xlabel('Шаг воронки'), plt.ylabel('Процент уникальных пользоватлей'), plt.title('Воронка с разбивкой по группам');"
   ]
  },
  {
   "cell_type": "code",
   "execution_count": 25,
   "id": "bbb3273d",
   "metadata": {},
   "outputs": [
    {
     "data": {
      "text/html": [
       "<style type=\"text/css\">\n",
       "</style>\n",
       "<table id=\"T_cb7a3\">\n",
       "  <thead>\n",
       "    <tr>\n",
       "      <th class=\"index_name level0\" >test_group</th>\n",
       "      <th id=\"T_cb7a3_level0_col0\" class=\"col_heading level0 col0\" >A</th>\n",
       "      <th id=\"T_cb7a3_level0_col1\" class=\"col_heading level0 col1\" >B</th>\n",
       "      <th id=\"T_cb7a3_level0_col2\" class=\"col_heading level0 col2\" >%_A</th>\n",
       "      <th id=\"T_cb7a3_level0_col3\" class=\"col_heading level0 col3\" >%_B</th>\n",
       "    </tr>\n",
       "    <tr>\n",
       "      <th class=\"index_name level0\" >event_name</th>\n",
       "      <th class=\"blank col0\" >&nbsp;</th>\n",
       "      <th class=\"blank col1\" >&nbsp;</th>\n",
       "      <th class=\"blank col2\" >&nbsp;</th>\n",
       "      <th class=\"blank col3\" >&nbsp;</th>\n",
       "    </tr>\n",
       "  </thead>\n",
       "  <tbody>\n",
       "    <tr>\n",
       "      <th id=\"T_cb7a3_level0_row0\" class=\"row_heading level0 row0\" >login</th>\n",
       "      <td id=\"T_cb7a3_row0_col0\" class=\"data row0 col0\" >4226</td>\n",
       "      <td id=\"T_cb7a3_row0_col1\" class=\"data row0 col1\" >4325</td>\n",
       "      <td id=\"T_cb7a3_row0_col2\" class=\"data row0 col2\" >100.00%</td>\n",
       "      <td id=\"T_cb7a3_row0_col3\" class=\"data row0 col3\" >100.00%</td>\n",
       "    </tr>\n",
       "    <tr>\n",
       "      <th id=\"T_cb7a3_level0_row1\" class=\"row_heading level0 row1\" >tuturial_started</th>\n",
       "      <td id=\"T_cb7a3_row1_col0\" class=\"data row1 col0\" >3980</td>\n",
       "      <td id=\"T_cb7a3_row1_col1\" class=\"data row1 col1\" >3731</td>\n",
       "      <td id=\"T_cb7a3_row1_col2\" class=\"data row1 col2\" >94.18%</td>\n",
       "      <td id=\"T_cb7a3_row1_col3\" class=\"data row1 col3\" >86.27%</td>\n",
       "    </tr>\n",
       "    <tr>\n",
       "      <th id=\"T_cb7a3_level0_row2\" class=\"row_heading level0 row2\" >tutorial_completed</th>\n",
       "      <td id=\"T_cb7a3_row2_col0\" class=\"data row2 col0\" >3302</td>\n",
       "      <td id=\"T_cb7a3_row2_col1\" class=\"data row2 col1\" >2881</td>\n",
       "      <td id=\"T_cb7a3_row2_col2\" class=\"data row2 col2\" >78.14%</td>\n",
       "      <td id=\"T_cb7a3_row2_col3\" class=\"data row2 col3\" >66.61%</td>\n",
       "    </tr>\n",
       "  </tbody>\n",
       "</table>\n"
      ],
      "text/plain": [
       "<pandas.io.formats.style.Styler at 0x197665adca0>"
      ]
     },
     "execution_count": 25,
     "metadata": {},
     "output_type": "execute_result"
    }
   ],
   "source": [
    "history_event_ = test_events.pivot_table(index = 'event_name', columns = 'test_group', values = 'user_id', aggfunc = 'nunique')\n",
    "history_event_ = history_event_.sort_values(by = 'A', ascending = False)\n",
    "history_event_['%_A'] = history_event_['A'] / history_event_['A'][0]\n",
    "history_event_['%_B'] = history_event_['B'] / history_event_['B'][0]\n",
    "history_event_.style.format({'%_A' : '{:.2%}', '%_B' : '{:.2%}'})"
   ]
  },
  {
   "cell_type": "code",
   "execution_count": 26,
   "id": "c11db99d",
   "metadata": {},
   "outputs": [
    {
     "name": "stdout",
     "output_type": "stream",
     "text": [
      "Конверсия после проведеняи теста: 0.7813535257927118, Конверсия до проведеняи теста: 0.7292539267015706\n"
     ]
    }
   ],
   "source": [
    "print(f'Конверсия после проведеняи теста: {history_event_[\"%_A\"][2]}, Конверсия до проведеняи теста: {history_event[\"%\"][2]}')"
   ]
  },
  {
   "cell_type": "markdown",
   "id": "1f2ea32a",
   "metadata": {},
   "source": [
    "Конверсия прохождения туториала до проведения A/B теста была 73%. Ожидалось, что тест повысит конверсию прохождения туториала на 3.8 %. Для пользователей группы A, для которых проводился тест конверсия увеличилась на чуть больше 4 %"
   ]
  },
  {
   "cell_type": "code",
   "execution_count": 27,
   "id": "e7a6ce29",
   "metadata": {},
   "outputs": [
    {
     "data": {
      "text/html": [
       "<div>\n",
       "<style scoped>\n",
       "    .dataframe tbody tr th:only-of-type {\n",
       "        vertical-align: middle;\n",
       "    }\n",
       "\n",
       "    .dataframe tbody tr th {\n",
       "        vertical-align: top;\n",
       "    }\n",
       "\n",
       "    .dataframe thead th {\n",
       "        text-align: right;\n",
       "    }\n",
       "</style>\n",
       "<table border=\"1\" class=\"dataframe\">\n",
       "  <thead>\n",
       "    <tr style=\"text-align: right;\">\n",
       "      <th>event_name</th>\n",
       "      <th>login</th>\n",
       "      <th>tuturial_started</th>\n",
       "      <th>tutorial_completed</th>\n",
       "    </tr>\n",
       "    <tr>\n",
       "      <th>test_group</th>\n",
       "      <th></th>\n",
       "      <th></th>\n",
       "      <th></th>\n",
       "    </tr>\n",
       "  </thead>\n",
       "  <tbody>\n",
       "    <tr>\n",
       "      <th>A</th>\n",
       "      <td>4226</td>\n",
       "      <td>3980</td>\n",
       "      <td>3302</td>\n",
       "    </tr>\n",
       "    <tr>\n",
       "      <th>B</th>\n",
       "      <td>4325</td>\n",
       "      <td>3731</td>\n",
       "      <td>2881</td>\n",
       "    </tr>\n",
       "  </tbody>\n",
       "</table>\n",
       "</div>"
      ],
      "text/plain": [
       "event_name  login  tuturial_started  tutorial_completed\n",
       "test_group                                             \n",
       "A            4226              3980                3302\n",
       "B            4325              3731                2881"
      ]
     },
     "execution_count": 27,
     "metadata": {},
     "output_type": "execute_result"
    }
   ],
   "source": [
    "report = test_events.pivot_table(index = 'test_group', columns = 'event_name', values = 'user_id', aggfunc = 'nunique')[['login', 'tuturial_started', 'tutorial_completed']]\n",
    "report"
   ]
  },
  {
   "cell_type": "code",
   "execution_count": 28,
   "id": "64e2627b",
   "metadata": {},
   "outputs": [
    {
     "name": "stdout",
     "output_type": "stream",
     "text": [
      "p-value: 1.1152854995855214e-32\n",
      "Нулеая гипотеза отвергается: между группами A и B есть различия в % завершении туториала.\n"
     ]
    }
   ],
   "source": [
    "count = list(report['tutorial_completed'].values)\n",
    "nobs = list(report['login'].values)\n",
    "\n",
    "p_value = proportions_ztest(count, nobs, value = 0)[1]\n",
    "print(f'p-value: {p_value}')\n",
    "if p_value >= alpha:\n",
    "    print('Нулеая гипотеза не отвергается: между группами A и B нет различия в % завершении туториала.')\n",
    "else:\n",
    "    print('Нулеая гипотеза отвергается: между группами A и B есть различия в % завершении туториала.')"
   ]
  },
  {
   "cell_type": "code",
   "execution_count": null,
   "id": "9549344d",
   "metadata": {},
   "outputs": [],
   "source": []
  }
 ],
 "metadata": {
  "kernelspec": {
   "display_name": "Python 3 (ipykernel)",
   "language": "python",
   "name": "python3"
  },
  "language_info": {
   "codemirror_mode": {
    "name": "ipython",
    "version": 3
   },
   "file_extension": ".py",
   "mimetype": "text/x-python",
   "name": "python",
   "nbconvert_exporter": "python",
   "pygments_lexer": "ipython3",
   "version": "3.9.12"
  }
 },
 "nbformat": 4,
 "nbformat_minor": 5
}
