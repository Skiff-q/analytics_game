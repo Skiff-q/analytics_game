{
 "cells": [
  {
   "cell_type": "code",
   "execution_count": 1,
   "id": "6de7e4f1-32b3-44f8-ba6e-7daca5e0e85d",
   "metadata": {},
   "outputs": [],
   "source": [
    "import pandas as pd\n",
    "import seaborn as sns\n",
    "from matplotlib import pyplot as plt\n",
    "import matplotlib.ticker as mtick\n",
    "import scipy.stats as stats"
   ]
  },
  {
   "cell_type": "markdown",
   "id": "9eefb217",
   "metadata": {},
   "source": [
    "### ЗАгрузка датасета"
   ]
  },
  {
   "cell_type": "code",
   "execution_count": 2,
   "id": "e73b2220-0685-4861-891a-00e79a0f3bc6",
   "metadata": {},
   "outputs": [
    {
     "data": {
      "text/html": [
       "<div>\n",
       "<style scoped>\n",
       "    .dataframe tbody tr th:only-of-type {\n",
       "        vertical-align: middle;\n",
       "    }\n",
       "\n",
       "    .dataframe tbody tr th {\n",
       "        vertical-align: top;\n",
       "    }\n",
       "\n",
       "    .dataframe thead th {\n",
       "        text-align: right;\n",
       "    }\n",
       "</style>\n",
       "<table border=\"1\" class=\"dataframe\">\n",
       "  <thead>\n",
       "    <tr style=\"text-align: right;\">\n",
       "      <th></th>\n",
       "      <th>user_id</th>\n",
       "      <th>event_name</th>\n",
       "      <th>event_dt</th>\n",
       "      <th>acq_channel</th>\n",
       "    </tr>\n",
       "  </thead>\n",
       "  <tbody>\n",
       "    <tr>\n",
       "      <th>0</th>\n",
       "      <td>--0-b0cbb8-a</td>\n",
       "      <td>first_game</td>\n",
       "      <td>2020-06-08</td>\n",
       "      <td>GameAds</td>\n",
       "    </tr>\n",
       "    <tr>\n",
       "      <th>1</th>\n",
       "      <td>--0-b0cbb8-a</td>\n",
       "      <td>first_upgrade</td>\n",
       "      <td>2020-06-09</td>\n",
       "      <td>GameAds</td>\n",
       "    </tr>\n",
       "    <tr>\n",
       "      <th>2</th>\n",
       "      <td>--0-b0cbb8-a</td>\n",
       "      <td>login</td>\n",
       "      <td>2020-06-01</td>\n",
       "      <td>GameAds</td>\n",
       "    </tr>\n",
       "    <tr>\n",
       "      <th>3</th>\n",
       "      <td>--0-b0cbb8-a</td>\n",
       "      <td>registration</td>\n",
       "      <td>2020-06-01</td>\n",
       "      <td>GameAds</td>\n",
       "    </tr>\n",
       "    <tr>\n",
       "      <th>4</th>\n",
       "      <td>--0-b0cbb8-a</td>\n",
       "      <td>tutorial_completed</td>\n",
       "      <td>2020-06-08</td>\n",
       "      <td>GameAds</td>\n",
       "    </tr>\n",
       "  </tbody>\n",
       "</table>\n",
       "</div>"
      ],
      "text/plain": [
       "        user_id          event_name    event_dt acq_channel\n",
       "0  --0-b0cbb8-a          first_game  2020-06-08     GameAds\n",
       "1  --0-b0cbb8-a       first_upgrade  2020-06-09     GameAds\n",
       "2  --0-b0cbb8-a               login  2020-06-01     GameAds\n",
       "3  --0-b0cbb8-a        registration  2020-06-01     GameAds\n",
       "4  --0-b0cbb8-a  tutorial_completed  2020-06-08     GameAds"
      ]
     },
     "execution_count": 2,
     "metadata": {},
     "output_type": "execute_result"
    }
   ],
   "source": [
    "events = pd.read_excel('events_.xlsx')\n",
    "events['event_dt'] = pd.to_datetime(events['event_dt']).dt.date # выбираю только даты \n",
    "events.head()"
   ]
  },
  {
   "cell_type": "code",
   "execution_count": 3,
   "id": "d8327086-1248-4521-a9d3-5486b60885aa",
   "metadata": {},
   "outputs": [
    {
     "data": {
      "text/html": [
       "<style type=\"text/css\">\n",
       "</style>\n",
       "<table id=\"T_76e4f\">\n",
       "  <thead>\n",
       "    <tr>\n",
       "      <th class=\"index_name level0\" >acq_channel</th>\n",
       "      <th id=\"T_76e4f_level0_col0\" class=\"col_heading level0 col0\" >BrainPlus</th>\n",
       "      <th id=\"T_76e4f_level0_col1\" class=\"col_heading level0 col1\" >GameAds</th>\n",
       "      <th id=\"T_76e4f_level0_col2\" class=\"col_heading level0 col2\" >JetAds</th>\n",
       "      <th id=\"T_76e4f_level0_col3\" class=\"col_heading level0 col3\" >SenseAds</th>\n",
       "    </tr>\n",
       "    <tr>\n",
       "      <th class=\"index_name level0\" >event_name</th>\n",
       "      <th class=\"blank col0\" >&nbsp;</th>\n",
       "      <th class=\"blank col1\" >&nbsp;</th>\n",
       "      <th class=\"blank col2\" >&nbsp;</th>\n",
       "      <th class=\"blank col3\" >&nbsp;</th>\n",
       "    </tr>\n",
       "  </thead>\n",
       "  <tbody>\n",
       "    <tr>\n",
       "      <th id=\"T_76e4f_level0_row0\" class=\"row_heading level0 row0\" >login</th>\n",
       "      <td id=\"T_76e4f_row0_col0\" class=\"data row0 col0\" >100.00%</td>\n",
       "      <td id=\"T_76e4f_row0_col1\" class=\"data row0 col1\" >100.00%</td>\n",
       "      <td id=\"T_76e4f_row0_col2\" class=\"data row0 col2\" >100.00%</td>\n",
       "      <td id=\"T_76e4f_row0_col3\" class=\"data row0 col3\" >100.00%</td>\n",
       "    </tr>\n",
       "    <tr>\n",
       "      <th id=\"T_76e4f_level0_row1\" class=\"row_heading level0 row1\" >registration</th>\n",
       "      <td id=\"T_76e4f_row1_col0\" class=\"data row1 col0\" >94.53%</td>\n",
       "      <td id=\"T_76e4f_row1_col1\" class=\"data row1 col1\" >97.44%</td>\n",
       "      <td id=\"T_76e4f_row1_col2\" class=\"data row1 col2\" >98.35%</td>\n",
       "      <td id=\"T_76e4f_row1_col3\" class=\"data row1 col3\" >99.16%</td>\n",
       "    </tr>\n",
       "    <tr>\n",
       "      <th id=\"T_76e4f_level0_row2\" class=\"row_heading level0 row2\" >tuturial_started</th>\n",
       "      <td id=\"T_76e4f_row2_col0\" class=\"data row2 col0\" >84.97%</td>\n",
       "      <td id=\"T_76e4f_row2_col1\" class=\"data row2 col1\" >93.95%</td>\n",
       "      <td id=\"T_76e4f_row2_col2\" class=\"data row2 col2\" >95.32%</td>\n",
       "      <td id=\"T_76e4f_row2_col3\" class=\"data row2 col3\" >98.00%</td>\n",
       "    </tr>\n",
       "    <tr>\n",
       "      <th id=\"T_76e4f_level0_row3\" class=\"row_heading level0 row3\" >tutorial_completed</th>\n",
       "      <td id=\"T_76e4f_row3_col0\" class=\"data row3 col0\" >64.23%</td>\n",
       "      <td id=\"T_76e4f_row3_col1\" class=\"data row3 col1\" >76.86%</td>\n",
       "      <td id=\"T_76e4f_row3_col2\" class=\"data row3 col2\" >85.82%</td>\n",
       "      <td id=\"T_76e4f_row3_col3\" class=\"data row3 col3\" >91.45%</td>\n",
       "    </tr>\n",
       "    <tr>\n",
       "      <th id=\"T_76e4f_level0_row4\" class=\"row_heading level0 row4\" >first_game</th>\n",
       "      <td id=\"T_76e4f_row4_col0\" class=\"data row4 col0\" >46.73%</td>\n",
       "      <td id=\"T_76e4f_row4_col1\" class=\"data row4 col1\" >63.82%</td>\n",
       "      <td id=\"T_76e4f_row4_col2\" class=\"data row4 col2\" >75.83%</td>\n",
       "      <td id=\"T_76e4f_row4_col3\" class=\"data row4 col3\" >85.71%</td>\n",
       "    </tr>\n",
       "    <tr>\n",
       "      <th id=\"T_76e4f_level0_row5\" class=\"row_heading level0 row5\" >first_upgrade</th>\n",
       "      <td id=\"T_76e4f_row5_col0\" class=\"data row5 col0\" >10.71%</td>\n",
       "      <td id=\"T_76e4f_row5_col1\" class=\"data row5 col1\" >33.51%</td>\n",
       "      <td id=\"T_76e4f_row5_col2\" class=\"data row5 col2\" >26.64%</td>\n",
       "      <td id=\"T_76e4f_row5_col3\" class=\"data row5 col3\" >60.49%</td>\n",
       "    </tr>\n",
       "    <tr>\n",
       "      <th id=\"T_76e4f_level0_row6\" class=\"row_heading level0 row6\" >purchase</th>\n",
       "      <td id=\"T_76e4f_row6_col0\" class=\"data row6 col0\" >0.96%</td>\n",
       "      <td id=\"T_76e4f_row6_col1\" class=\"data row6 col1\" >1.85%</td>\n",
       "      <td id=\"T_76e4f_row6_col2\" class=\"data row6 col2\" >3.06%</td>\n",
       "      <td id=\"T_76e4f_row6_col3\" class=\"data row6 col3\" >4.14%</td>\n",
       "    </tr>\n",
       "    <tr>\n",
       "      <th id=\"T_76e4f_level0_row7\" class=\"row_heading level0 row7\" >friend_invite</th>\n",
       "      <td id=\"T_76e4f_row7_col0\" class=\"data row7 col0\" >0.16%</td>\n",
       "      <td id=\"T_76e4f_row7_col1\" class=\"data row7 col1\" >1.53%</td>\n",
       "      <td id=\"T_76e4f_row7_col2\" class=\"data row7 col2\" >0.63%</td>\n",
       "      <td id=\"T_76e4f_row7_col3\" class=\"data row7 col3\" >4.88%</td>\n",
       "    </tr>\n",
       "  </tbody>\n",
       "</table>\n"
      ],
      "text/plain": [
       "<pandas.io.formats.style.Styler at 0x2acf2779d30>"
      ]
     },
     "execution_count": 3,
     "metadata": {},
     "output_type": "execute_result"
    },
    {
     "data": {
      "image/png": "[encoded data removed]",
      "text/plain": [
       "<Figure size 1080x504 with 1 Axes>"
      ]
     },
     "metadata": {
      "needs_background": "light"
     },
     "output_type": "display_data"
    }
   ],
   "source": [
    "pivot_events = events.pivot_table(index='event_name', columns = 'acq_channel', values = 'user_id', aggfunc = 'nunique').fillna(0)\n",
    "pivot_events = pivot_events.sort_values('BrainPlus', ascending = False)\n",
    "for col in pivot_events.columns:\n",
    "    pivot_events[col] = pivot_events[col] / pivot_events.loc['login', col] # конверсия \n",
    "\n",
    "pivot_events.plot(figsize=(15,7))\n",
    "plt.title('Воронка онбординга пользователей'), plt.xlabel('Шаг воронки'), plt.ylabel('уникальные пользователи %')\n",
    "\n",
    "pivot_events.style.format('{:.2%}')"
   ]
  },
  {
   "cell_type": "code",
   "execution_count": 4,
   "id": "1606f1d1-79cf-4c5d-bdbe-f146d9e9b198",
   "metadata": {},
   "outputs": [
    {
     "data": {
      "text/html": [
       "<div>\n",
       "<style scoped>\n",
       "    .dataframe tbody tr th:only-of-type {\n",
       "        vertical-align: middle;\n",
       "    }\n",
       "\n",
       "    .dataframe tbody tr th {\n",
       "        vertical-align: top;\n",
       "    }\n",
       "\n",
       "    .dataframe thead th {\n",
       "        text-align: right;\n",
       "    }\n",
       "</style>\n",
       "<table border=\"1\" class=\"dataframe\">\n",
       "  <thead>\n",
       "    <tr style=\"text-align: right;\">\n",
       "      <th></th>\n",
       "      <th>user_id</th>\n",
       "      <th>event_dt</th>\n",
       "      <th>revenue</th>\n",
       "      <th>ad_network</th>\n",
       "    </tr>\n",
       "  </thead>\n",
       "  <tbody>\n",
       "    <tr>\n",
       "      <th>0</th>\n",
       "      <td>fb1b6f9ddc3ddd6d</td>\n",
       "      <td>2021-02-01 10:26:57</td>\n",
       "      <td>4.99</td>\n",
       "      <td>FB</td>\n",
       "    </tr>\n",
       "    <tr>\n",
       "      <th>1</th>\n",
       "      <td>fb1b6f9ddc3ddd6d</td>\n",
       "      <td>2021-02-06 22:15:05</td>\n",
       "      <td>4.99</td>\n",
       "      <td>FB</td>\n",
       "    </tr>\n",
       "    <tr>\n",
       "      <th>2</th>\n",
       "      <td>fb1b6f9ddc3ddd6d</td>\n",
       "      <td>2021-02-19 04:36:59</td>\n",
       "      <td>4.99</td>\n",
       "      <td>FB</td>\n",
       "    </tr>\n",
       "    <tr>\n",
       "      <th>3</th>\n",
       "      <td>fb1b6f9ddc3ddd6d</td>\n",
       "      <td>2021-02-26 21:14:23</td>\n",
       "      <td>4.99</td>\n",
       "      <td>FB</td>\n",
       "    </tr>\n",
       "    <tr>\n",
       "      <th>4</th>\n",
       "      <td>fb1b6f9ddc3ddd6d</td>\n",
       "      <td>2021-03-04 21:03:59</td>\n",
       "      <td>4.99</td>\n",
       "      <td>FB</td>\n",
       "    </tr>\n",
       "  </tbody>\n",
       "</table>\n",
       "</div>"
      ],
      "text/plain": [
       "            user_id            event_dt  revenue ad_network\n",
       "0  fb1b6f9ddc3ddd6d 2021-02-01 10:26:57     4.99         FB\n",
       "1  fb1b6f9ddc3ddd6d 2021-02-06 22:15:05     4.99         FB\n",
       "2  fb1b6f9ddc3ddd6d 2021-02-19 04:36:59     4.99         FB\n",
       "3  fb1b6f9ddc3ddd6d 2021-02-26 21:14:23     4.99         FB\n",
       "4  fb1b6f9ddc3ddd6d 2021-03-04 21:03:59     4.99         FB"
      ]
     },
     "execution_count": 4,
     "metadata": {},
     "output_type": "execute_result"
    }
   ],
   "source": [
    "purchases = pd.read_excel('purchases_.xlsx')\n",
    "purchases.head()"
   ]
  },
  {
   "cell_type": "markdown",
   "id": "990bfd6d",
   "metadata": {},
   "source": [
    "### z_test одновыборочный\n",
    "С помощью одновыборочного z-теста для пропорций проверьте гипотезу о том, что доля пользователей из источника BrainPlus, игравших первую самостоятельную битву (т.е. выполнивших шаг first_game) равна 50%:"
   ]
  },
  {
   "cell_type": "code",
   "execution_count": 5,
   "id": "8805a67d-1faa-42b7-b240-defa06ee44f1",
   "metadata": {},
   "outputs": [
    {
     "name": "stdout",
     "output_type": "stream",
     "text": [
      "Пользователи из источника BrainPlus закончившие первую игру: 21700, общее кол-во пользователей: 46433, конверсия: 0.467340038334805\n",
      "p_value: 0.00000\n",
      "Отвергаем нулевую гипотезу: доля целевых наблюдений не равна заданному порогу.\n"
     ]
    }
   ],
   "source": [
    "from statsmodels.stats.proportion import proportions_ztest\n",
    "\n",
    "# задаем уровень значимости\n",
    "alpha = 0.05\n",
    "\n",
    "# задаем порог , нулевая гипотеза гласит,что доля пользователей игравших первую самостоятельную игру равна 50%,\n",
    "# а альтернативная гипотеза гласит, что доля не равна\n",
    "value = 0.5\n",
    "\n",
    "# подготовка данных\n",
    "pivot_events = events.pivot_table(index='event_name', columns = 'acq_channel', values = 'user_id', aggfunc = 'nunique')\n",
    "pivot_events = pivot_events.sort_values(by='BrainPlus', ascending = False)\n",
    "\n",
    "print('Пользователи из источника BrainPlus закончившие первую игру: {}, общее кол-во пользователей: {}, конверсия: {}'.format(\n",
    "    pivot_events.loc['first_game', 'BrainPlus'], pivot_events.loc['login', 'BrainPlus'], \n",
    "    pivot_events.loc['first_game', 'BrainPlus'] / pivot_events.loc['login', 'BrainPlus']))\n",
    "# проводим тест\n",
    "p_value = proportions_ztest(pivot_events.loc['first_game', 'BrainPlus'], pivot_events.loc['login', 'BrainPlus'], value = value)[1]\n",
    "print('p_value: {:.5f}'.format(p_value))\n",
    "\n",
    "# анализируем результат\n",
    "if p_value < alpha:\n",
    "    print('Отвергаем нулевую гипотезу: доля целевых наблюдений не равна заданному порогу.')\n",
    "else:\n",
    "    print('Не отвергаем нулевую гипотезу: доля целевых наблюжений равна заданному порогу.')"
   ]
  },
  {
   "cell_type": "markdown",
   "id": "88c3cb9f",
   "metadata": {},
   "source": [
    "### z_test двухвыборочный\n",
    "С помощью двухвыборочного z-теста для пропорций проверьте гипотезу о том, что доли пользователей, игравших первую самостоятельную битву, равны для пользователей из источников BrainPlus и SenseAds:"
   ]
  },
  {
   "cell_type": "code",
   "execution_count": 6,
   "id": "fe7cd922-7dbc-4dea-aba3-0f461ca7511a",
   "metadata": {},
   "outputs": [
    {
     "name": "stdout",
     "output_type": "stream",
     "text": [
      "BrainPlus gamers: 21700, общее число игроков: 46433, конверсия: 0.467340038334805\n",
      "SenseAds gamers: 4289, общее число игроков: 5004, конверсия: 0.8571143085531575\n",
      "p_value: 0.00000\n",
      "Отвергаем нулевую гипотезу: доли целевых наблюдений в двух группах отличаются\n"
     ]
    }
   ],
   "source": [
    "# подготовка данных\n",
    "first_gamers_brain = pivot_events.loc['first_game', 'BrainPlus']\n",
    "all_login_brain = pivot_events.loc['login', 'BrainPlus']\n",
    "\n",
    "first_gamers_sense = pivot_events.loc['first_game', 'SenseAds']\n",
    "all_login_sense = pivot_events.loc['login', 'SenseAds']\n",
    "\n",
    "print('BrainPlus gamers: {}, общее число игроков: {}, конверсия: {}'.format(first_gamers_brain, all_login_brain,\n",
    "                                                                            first_gamers_brain / all_login_brain ))\n",
    "print('SenseAds gamers: {}, общее число игроков: {}, конверсия: {}'.format(first_gamers_sense, all_login_sense,\n",
    "                                                                            first_gamers_sense / all_login_sense ))\n",
    "# уровень значимости\n",
    "alpha = 0.05\n",
    "\n",
    "# гипотезы\n",
    "# Конверсии пользователей игравших первую игру с каналы BrainPlus равны пользователям с канала SenseAds. Так звучит нулевая гипотеза \n",
    "# Альтернативная говорит же, что конверсии не равны\n",
    "\n",
    "# проволим тест\n",
    "p_value = proportions_ztest([first_gamers_brain, first_gamers_sense], [all_login_brain, all_login_sense])[1]\n",
    "print('p_value: {:.5f}'.format(p_value))\n",
    "\n",
    "# анализируем результат\n",
    "if p_value < alpha:\n",
    "    print('Отвергаем нулевую гипотезу: доли целевых наблюдений в двух группах отличаются')\n",
    "else:\n",
    "    print('Не отвергаем нулевую гипотезу: доли целевых наблюдений в обеих группах совпадают')"
   ]
  },
  {
   "cell_type": "code",
   "execution_count": 7,
   "id": "0d67a5b5-1005-4093-add7-26fd8e5ba9b5",
   "metadata": {},
   "outputs": [
    {
     "data": {
      "text/html": [
       "<style type=\"text/css\">\n",
       "</style>\n",
       "<table id=\"T_597ac\">\n",
       "  <thead>\n",
       "    <tr>\n",
       "      <th class=\"blank level0\" >&nbsp;</th>\n",
       "      <th id=\"T_597ac_level0_col0\" class=\"col_heading level0 col0\" >События</th>\n",
       "      <th id=\"T_597ac_level0_col1\" class=\"col_heading level0 col1\" >Уникальные пользователи</th>\n",
       "      <th id=\"T_597ac_level0_col2\" class=\"col_heading level0 col2\" >%</th>\n",
       "    </tr>\n",
       "    <tr>\n",
       "      <th class=\"index_name level0\" >event_name</th>\n",
       "      <th class=\"blank col0\" >&nbsp;</th>\n",
       "      <th class=\"blank col1\" >&nbsp;</th>\n",
       "      <th class=\"blank col2\" >&nbsp;</th>\n",
       "    </tr>\n",
       "  </thead>\n",
       "  <tbody>\n",
       "    <tr>\n",
       "      <th id=\"T_597ac_level0_row0\" class=\"row_heading level0 row0\" >login</th>\n",
       "      <td id=\"T_597ac_row0_col0\" class=\"data row0 col0\" >46433</td>\n",
       "      <td id=\"T_597ac_row0_col1\" class=\"data row0 col1\" >46433</td>\n",
       "      <td id=\"T_597ac_row0_col2\" class=\"data row0 col2\" >100.00%</td>\n",
       "    </tr>\n",
       "    <tr>\n",
       "      <th id=\"T_597ac_level0_row1\" class=\"row_heading level0 row1\" >registration</th>\n",
       "      <td id=\"T_597ac_row1_col0\" class=\"data row1 col0\" >43893</td>\n",
       "      <td id=\"T_597ac_row1_col1\" class=\"data row1 col1\" >43893</td>\n",
       "      <td id=\"T_597ac_row1_col2\" class=\"data row1 col2\" >94.53%</td>\n",
       "    </tr>\n",
       "    <tr>\n",
       "      <th id=\"T_597ac_level0_row2\" class=\"row_heading level0 row2\" >tuturial_started</th>\n",
       "      <td id=\"T_597ac_row2_col0\" class=\"data row2 col0\" >39456</td>\n",
       "      <td id=\"T_597ac_row2_col1\" class=\"data row2 col1\" >39456</td>\n",
       "      <td id=\"T_597ac_row2_col2\" class=\"data row2 col2\" >84.97%</td>\n",
       "    </tr>\n",
       "    <tr>\n",
       "      <th id=\"T_597ac_level0_row3\" class=\"row_heading level0 row3\" >tutorial_completed</th>\n",
       "      <td id=\"T_597ac_row3_col0\" class=\"data row3 col0\" >29823</td>\n",
       "      <td id=\"T_597ac_row3_col1\" class=\"data row3 col1\" >29823</td>\n",
       "      <td id=\"T_597ac_row3_col2\" class=\"data row3 col2\" >64.23%</td>\n",
       "    </tr>\n",
       "    <tr>\n",
       "      <th id=\"T_597ac_level0_row4\" class=\"row_heading level0 row4\" >first_game</th>\n",
       "      <td id=\"T_597ac_row4_col0\" class=\"data row4 col0\" >21700</td>\n",
       "      <td id=\"T_597ac_row4_col1\" class=\"data row4 col1\" >21700</td>\n",
       "      <td id=\"T_597ac_row4_col2\" class=\"data row4 col2\" >46.73%</td>\n",
       "    </tr>\n",
       "    <tr>\n",
       "      <th id=\"T_597ac_level0_row5\" class=\"row_heading level0 row5\" >first_upgrade</th>\n",
       "      <td id=\"T_597ac_row5_col0\" class=\"data row5 col0\" >4975</td>\n",
       "      <td id=\"T_597ac_row5_col1\" class=\"data row5 col1\" >4975</td>\n",
       "      <td id=\"T_597ac_row5_col2\" class=\"data row5 col2\" >10.71%</td>\n",
       "    </tr>\n",
       "    <tr>\n",
       "      <th id=\"T_597ac_level0_row6\" class=\"row_heading level0 row6\" >purchase</th>\n",
       "      <td id=\"T_597ac_row6_col0\" class=\"data row6 col0\" >1914</td>\n",
       "      <td id=\"T_597ac_row6_col1\" class=\"data row6 col1\" >448</td>\n",
       "      <td id=\"T_597ac_row6_col2\" class=\"data row6 col2\" >0.96%</td>\n",
       "    </tr>\n",
       "    <tr>\n",
       "      <th id=\"T_597ac_level0_row7\" class=\"row_heading level0 row7\" >friend_invite</th>\n",
       "      <td id=\"T_597ac_row7_col0\" class=\"data row7 col0\" >76</td>\n",
       "      <td id=\"T_597ac_row7_col1\" class=\"data row7 col1\" >76</td>\n",
       "      <td id=\"T_597ac_row7_col2\" class=\"data row7 col2\" >0.16%</td>\n",
       "    </tr>\n",
       "  </tbody>\n",
       "</table>\n"
      ],
      "text/plain": [
       "<pandas.io.formats.style.Styler at 0x2acfb833fd0>"
      ]
     },
     "execution_count": 7,
     "metadata": {},
     "output_type": "execute_result"
    }
   ],
   "source": [
    "report = events.query('acq_channel == \"BrainPlus\"').groupby('event_name').agg({'user_id':['count','nunique']})\n",
    "report.columns = ['События','Уникальные пользователи']\n",
    "report = report.sort_values(by = 'Уникальные пользователи',ascending = False)\n",
    "report['%'] = report['Уникальные пользователи'] / report['Уникальные пользователи'].values[0]\n",
    "report.style.format({'%':'{:.2%}'})"
   ]
  },
  {
   "cell_type": "markdown",
   "id": "d83928ee",
   "metadata": {},
   "source": [
    "### t-тест\n",
    "Один из ваших коллег выдвинул гипотезу о том, что среднее число покупок, совершенных пользователями, привлеченными из источников GameAds и JetAds равны. Проверьте эту гипотезу с помощью двухвыборочного t-теста:"
   ]
  },
  {
   "cell_type": "code",
   "execution_count": 8,
   "id": "0ba4ccc8-9d66-47cb-838f-d69deb2cb86e",
   "metadata": {},
   "outputs": [
    {
     "data": {
      "text/html": [
       "<div>\n",
       "<style scoped>\n",
       "    .dataframe tbody tr th:only-of-type {\n",
       "        vertical-align: middle;\n",
       "    }\n",
       "\n",
       "    .dataframe tbody tr th {\n",
       "        vertical-align: top;\n",
       "    }\n",
       "\n",
       "    .dataframe thead th {\n",
       "        text-align: right;\n",
       "    }\n",
       "</style>\n",
       "<table border=\"1\" class=\"dataframe\">\n",
       "  <thead>\n",
       "    <tr style=\"text-align: right;\">\n",
       "      <th></th>\n",
       "      <th>user_id</th>\n",
       "      <th>event_dt</th>\n",
       "      <th>revenue</th>\n",
       "      <th>ad_network</th>\n",
       "    </tr>\n",
       "  </thead>\n",
       "  <tbody>\n",
       "    <tr>\n",
       "      <th>0</th>\n",
       "      <td>fb1b6f9ddc3ddd6d</td>\n",
       "      <td>2021-02-01</td>\n",
       "      <td>4.99</td>\n",
       "      <td>FB</td>\n",
       "    </tr>\n",
       "    <tr>\n",
       "      <th>1</th>\n",
       "      <td>fb1b6f9ddc3ddd6d</td>\n",
       "      <td>2021-02-06</td>\n",
       "      <td>4.99</td>\n",
       "      <td>FB</td>\n",
       "    </tr>\n",
       "    <tr>\n",
       "      <th>2</th>\n",
       "      <td>fb1b6f9ddc3ddd6d</td>\n",
       "      <td>2021-02-19</td>\n",
       "      <td>4.99</td>\n",
       "      <td>FB</td>\n",
       "    </tr>\n",
       "    <tr>\n",
       "      <th>3</th>\n",
       "      <td>fb1b6f9ddc3ddd6d</td>\n",
       "      <td>2021-02-26</td>\n",
       "      <td>4.99</td>\n",
       "      <td>FB</td>\n",
       "    </tr>\n",
       "    <tr>\n",
       "      <th>4</th>\n",
       "      <td>fb1b6f9ddc3ddd6d</td>\n",
       "      <td>2021-03-04</td>\n",
       "      <td>4.99</td>\n",
       "      <td>FB</td>\n",
       "    </tr>\n",
       "    <tr>\n",
       "      <th>...</th>\n",
       "      <td>...</td>\n",
       "      <td>...</td>\n",
       "      <td>...</td>\n",
       "      <td>...</td>\n",
       "    </tr>\n",
       "    <tr>\n",
       "      <th>18227</th>\n",
       "      <td>41a6960b610cd152</td>\n",
       "      <td>2021-06-08</td>\n",
       "      <td>4.99</td>\n",
       "      <td>Instagroom</td>\n",
       "    </tr>\n",
       "    <tr>\n",
       "      <th>18228</th>\n",
       "      <td>33927ac261f94ba5</td>\n",
       "      <td>2021-06-08</td>\n",
       "      <td>4.99</td>\n",
       "      <td>Instagroom</td>\n",
       "    </tr>\n",
       "    <tr>\n",
       "      <th>18229</th>\n",
       "      <td>7d3453c718fb492d</td>\n",
       "      <td>2021-06-12</td>\n",
       "      <td>4.99</td>\n",
       "      <td>Instagroom</td>\n",
       "    </tr>\n",
       "    <tr>\n",
       "      <th>18230</th>\n",
       "      <td>7d3453c718fb492d</td>\n",
       "      <td>2021-06-18</td>\n",
       "      <td>4.99</td>\n",
       "      <td>Instagroom</td>\n",
       "    </tr>\n",
       "    <tr>\n",
       "      <th>18231</th>\n",
       "      <td>72f6356f33340124</td>\n",
       "      <td>2021-06-14</td>\n",
       "      <td>4.99</td>\n",
       "      <td>Instagroom</td>\n",
       "    </tr>\n",
       "  </tbody>\n",
       "</table>\n",
       "<p>18232 rows × 4 columns</p>\n",
       "</div>"
      ],
      "text/plain": [
       "                user_id    event_dt  revenue  ad_network\n",
       "0      fb1b6f9ddc3ddd6d  2021-02-01     4.99          FB\n",
       "1      fb1b6f9ddc3ddd6d  2021-02-06     4.99          FB\n",
       "2      fb1b6f9ddc3ddd6d  2021-02-19     4.99          FB\n",
       "3      fb1b6f9ddc3ddd6d  2021-02-26     4.99          FB\n",
       "4      fb1b6f9ddc3ddd6d  2021-03-04     4.99          FB\n",
       "...                 ...         ...      ...         ...\n",
       "18227  41a6960b610cd152  2021-06-08     4.99  Instagroom\n",
       "18228  33927ac261f94ba5  2021-06-08     4.99  Instagroom\n",
       "18229  7d3453c718fb492d  2021-06-12     4.99  Instagroom\n",
       "18230  7d3453c718fb492d  2021-06-18     4.99  Instagroom\n",
       "18231  72f6356f33340124  2021-06-14     4.99  Instagroom\n",
       "\n",
       "[18232 rows x 4 columns]"
      ]
     },
     "execution_count": 8,
     "metadata": {},
     "output_type": "execute_result"
    }
   ],
   "source": [
    "purchases = pd.read_excel('purchases_.xlsx')\n",
    "purchases['event_dt'] = pd.to_datetime(purchases['event_dt']).dt.date\n",
    "purchases"
   ]
  },
  {
   "cell_type": "code",
   "execution_count": 9,
   "id": "fd8b7919",
   "metadata": {},
   "outputs": [
    {
     "name": "stderr",
     "output_type": "stream",
     "text": [
      "C:\\ProgramData\\Anaconda3\\lib\\site-packages\\seaborn\\distributions.py:2619: FutureWarning: `distplot` is a deprecated function and will be removed in a future version. Please adapt your code to use either `displot` (a figure-level function with similar flexibility) or `histplot` (an axes-level function for histograms).\n",
      "  warnings.warn(msg, FutureWarning)\n"
     ]
    },
    {
     "data": {
      "image/png": "[encoded data removed]",
      "text/plain": [
       "<Figure size 432x288 with 1 Axes>"
      ]
     },
     "metadata": {
      "needs_background": "light"
     },
     "output_type": "display_data"
    }
   ],
   "source": [
    "purchases_inst = purchases.query('ad_network == \"Instagroom\"').groupby('user_id').agg({'revenue' : ['count', 'sum']})\n",
    "ax = sns.distplot(purchases_inst, label = 'Средний чек')"
   ]
  },
  {
   "cell_type": "code",
   "execution_count": 10,
   "id": "467aa868",
   "metadata": {},
   "outputs": [
    {
     "name": "stderr",
     "output_type": "stream",
     "text": [
      "C:\\ProgramData\\Anaconda3\\lib\\site-packages\\seaborn\\distributions.py:2619: FutureWarning: `distplot` is a deprecated function and will be removed in a future version. Please adapt your code to use either `displot` (a figure-level function with similar flexibility) or `histplot` (an axes-level function for histograms).\n",
      "  warnings.warn(msg, FutureWarning)\n",
      "C:\\ProgramData\\Anaconda3\\lib\\site-packages\\seaborn\\distributions.py:2619: FutureWarning: `distplot` is a deprecated function and will be removed in a future version. Please adapt your code to use either `displot` (a figure-level function with similar flexibility) or `histplot` (an axes-level function for histograms).\n",
      "  warnings.warn(msg, FutureWarning)\n"
     ]
    },
    {
     "name": "stdout",
     "output_type": "stream",
     "text": [
      "Среднее кол-во покупок FB: 5.50\n",
      "Среднее кол-во покупок Instagroom: 5.08\n",
      "p-value: 0.00000\n",
      "Отвергаем нулевую гипотезу: средние покупки в двух группах не равны\n"
     ]
    },
    {
     "data": {
      "image/png": "[encoded data removed]",
      "text/plain": [
       "<Figure size 432x288 with 1 Axes>"
      ]
     },
     "metadata": {
      "needs_background": "light"
     },
     "output_type": "display_data"
    }
   ],
   "source": [
    "# подготовка данных\n",
    "purchases_report = purchases.groupby('user_id').agg({'ad_network': 'first', 'revenue': 'count'})\n",
    "for itm in purchases_report['ad_network'].unique():\n",
    "    current = purchases_report.query('ad_network == @itm')['revenue']\n",
    "    sns.distplot(current, label = itm)\n",
    "    print('Среднее кол-во покупок {}: {:.2f}'.format(itm, current.mean()))\n",
    "plt.legend(), plt.xlabel('Кол-во покупок'), plt.ylabel('Частота появления знаечния'), \n",
    "plt.title('Сравнение кол-во покупок по группам')\n",
    "\n",
    "report_inst = purchases_report.query('ad_network == \"FB\"')['revenue']\n",
    "report_FB = purchases_report.query('ad_network == \"Instagroom\"')['revenue']\n",
    "\n",
    "# уровень значимости\n",
    "alpha = 0.05\n",
    "\n",
    "# проводим тест\n",
    "p_value = stats.ttest_ind(report_inst, report_FB, equal_var = False).pvalue\n",
    "print('p-value: {:.5f}'.format(p_value))\n",
    "\n",
    "# анализируем результат\n",
    "if p_value < alpha:\n",
    "    print('Отвергаем нулевую гипотезу: средние покупки в двух группах не равны')\n",
    "else:\n",
    "    print('Не отвергаем нулевую гипотезу: средние покупки в двух группах равны')"
   ]
  },
  {
   "cell_type": "markdown",
   "id": "2a26fcae",
   "metadata": {},
   "source": [
    "Результаты теста показывают, что среднее кол-во покупок для данных каналов не равны, кол-во покупок с канала FB больше на 0.4. Длинный хвост показывает выбросы."
   ]
  },
  {
   "cell_type": "code",
   "execution_count": 11,
   "id": "a43b4a32",
   "metadata": {},
   "outputs": [
    {
     "data": {
      "text/html": [
       "<div>\n",
       "<style scoped>\n",
       "    .dataframe tbody tr th:only-of-type {\n",
       "        vertical-align: middle;\n",
       "    }\n",
       "\n",
       "    .dataframe tbody tr th {\n",
       "        vertical-align: top;\n",
       "    }\n",
       "\n",
       "    .dataframe thead th {\n",
       "        text-align: right;\n",
       "    }\n",
       "</style>\n",
       "<table border=\"1\" class=\"dataframe\">\n",
       "  <thead>\n",
       "    <tr style=\"text-align: right;\">\n",
       "      <th></th>\n",
       "      <th>ad_network</th>\n",
       "      <th>revenue</th>\n",
       "    </tr>\n",
       "    <tr>\n",
       "      <th>user_id</th>\n",
       "      <th></th>\n",
       "      <th></th>\n",
       "    </tr>\n",
       "  </thead>\n",
       "  <tbody>\n",
       "    <tr>\n",
       "      <th>0026a8f0dc63d2f9</th>\n",
       "      <td>FB</td>\n",
       "      <td>9</td>\n",
       "    </tr>\n",
       "    <tr>\n",
       "      <th>0031622f6c255f06</th>\n",
       "      <td>Instagroom</td>\n",
       "      <td>9</td>\n",
       "    </tr>\n",
       "    <tr>\n",
       "      <th>004d717fa0b99cdb</th>\n",
       "      <td>Instagroom</td>\n",
       "      <td>3</td>\n",
       "    </tr>\n",
       "    <tr>\n",
       "      <th>0051725df72fadd4</th>\n",
       "      <td>FB</td>\n",
       "      <td>5</td>\n",
       "    </tr>\n",
       "    <tr>\n",
       "      <th>0075709c27879d34</th>\n",
       "      <td>FB</td>\n",
       "      <td>2</td>\n",
       "    </tr>\n",
       "    <tr>\n",
       "      <th>...</th>\n",
       "      <td>...</td>\n",
       "      <td>...</td>\n",
       "    </tr>\n",
       "    <tr>\n",
       "      <th>ffb9c92a60086724</th>\n",
       "      <td>FB</td>\n",
       "      <td>7</td>\n",
       "    </tr>\n",
       "    <tr>\n",
       "      <th>ffc9f339cc3b3fa4</th>\n",
       "      <td>FB</td>\n",
       "      <td>7</td>\n",
       "    </tr>\n",
       "    <tr>\n",
       "      <th>ffdbc58b0651248b</th>\n",
       "      <td>Instagroom</td>\n",
       "      <td>3</td>\n",
       "    </tr>\n",
       "    <tr>\n",
       "      <th>fff944d00c671cfc</th>\n",
       "      <td>FB</td>\n",
       "      <td>12</td>\n",
       "    </tr>\n",
       "    <tr>\n",
       "      <th>fffa95cb53d7d32b</th>\n",
       "      <td>Instagroom</td>\n",
       "      <td>6</td>\n",
       "    </tr>\n",
       "  </tbody>\n",
       "</table>\n",
       "<p>3399 rows × 2 columns</p>\n",
       "</div>"
      ],
      "text/plain": [
       "                  ad_network  revenue\n",
       "user_id                              \n",
       "0026a8f0dc63d2f9          FB        9\n",
       "0031622f6c255f06  Instagroom        9\n",
       "004d717fa0b99cdb  Instagroom        3\n",
       "0051725df72fadd4          FB        5\n",
       "0075709c27879d34          FB        2\n",
       "...                      ...      ...\n",
       "ffb9c92a60086724          FB        7\n",
       "ffc9f339cc3b3fa4          FB        7\n",
       "ffdbc58b0651248b  Instagroom        3\n",
       "fff944d00c671cfc          FB       12\n",
       "fffa95cb53d7d32b  Instagroom        6\n",
       "\n",
       "[3399 rows x 2 columns]"
      ]
     },
     "execution_count": 11,
     "metadata": {},
     "output_type": "execute_result"
    }
   ],
   "source": [
    "purchases_report"
   ]
  },
  {
   "cell_type": "code",
   "execution_count": 12,
   "id": "13423ff4",
   "metadata": {},
   "outputs": [
    {
     "data": {
      "image/png": "[encoded data removed]",
      "text/plain": [
       "<Figure size 432x288 with 1 Axes>"
      ]
     },
     "metadata": {
      "needs_background": "light"
     },
     "output_type": "display_data"
    }
   ],
   "source": [
    "sns.boxplot(data = purchases_report, x = 'revenue', y = 'ad_network')\n",
    "plt.xlabel('Размер индивидуального чека'), plt.ylabel('Канал привлечения'),\n",
    "plt.title('Сравнение распределений индивидуального чека в группах');"
   ]
  },
  {
   "cell_type": "code",
   "execution_count": 13,
   "id": "a363be56",
   "metadata": {},
   "outputs": [
    {
     "name": "stderr",
     "output_type": "stream",
     "text": [
      "C:\\ProgramData\\Anaconda3\\lib\\site-packages\\seaborn\\distributions.py:2619: FutureWarning: `distplot` is a deprecated function and will be removed in a future version. Please adapt your code to use either `displot` (a figure-level function with similar flexibility) or `histplot` (an axes-level function for histograms).\n",
      "  warnings.warn(msg, FutureWarning)\n",
      "C:\\ProgramData\\Anaconda3\\lib\\site-packages\\seaborn\\distributions.py:2619: FutureWarning: `distplot` is a deprecated function and will be removed in a future version. Please adapt your code to use either `displot` (a figure-level function with similar flexibility) or `histplot` (an axes-level function for histograms).\n",
      "  warnings.warn(msg, FutureWarning)\n"
     ]
    },
    {
     "name": "stdout",
     "output_type": "stream",
     "text": [
      "Среднее кол-во покупок FB: 5.06\n",
      "Среднее кол-во покупок Instagroom: 4.68\n",
      "p-value: 0.00000\n",
      "Отвергаем нулевую гипотезу: средние покупки в двух группах не равны\n"
     ]
    },
    {
     "data": {
      "image/png": "[encoded data removed]",
      "text/plain": [
       "<Figure size 432x288 with 1 Axes>"
      ]
     },
     "metadata": {
      "needs_background": "light"
     },
     "output_type": "display_data"
    }
   ],
   "source": [
    "# предел выбросов \n",
    "outlier_limit = 0.95\n",
    "\n",
    "# готовим данные\n",
    "purchases_report = purchases.groupby('user_id').agg({'ad_network': 'first', 'revenue': 'count'})\n",
    "for itm in purchases_report['ad_network'].unique():\n",
    "    current = purchases_report.query('ad_network == @itm')['revenue']\n",
    "    current = current[current < current.quantile(outlier_limit)] # исключаем выбросы\n",
    "    sns.distplot(current, label = itm)\n",
    "    print('Среднее кол-во покупок {}: {:.2f}'.format(itm, current.mean()))\n",
    "plt.legend(), plt.xlabel('Кол-во покупок'), plt.ylabel('Частота появления знаечния'), \n",
    "plt.title('Сравнение кол-во покупок по группам')\n",
    "\n",
    "report_inst = purchases_report.query('ad_network == \"FB\"')['revenue']\n",
    "report_inst = report_inst[report_inst < report_inst.quantile(outlier_limit)] # исключаем выбросы\n",
    "\n",
    "report_FB = purchases_report.query('ad_network == \"Instagroom\"')['revenue']\n",
    "report_FB = report_FB[report_FB < report_FB.quantile(outlier_limit)] # исключаем выбросы\n",
    "\n",
    "# уровень значимости\n",
    "alpha = 0.05\n",
    "\n",
    "# проводим тест\n",
    "p_value = stats.ttest_ind(report_inst, report_FB, equal_var = False).pvalue\n",
    "print(f'p-value: {p_value:.5f}')\n",
    "\n",
    "# анализируем результат \n",
    "if p_value < alpha:\n",
    "    print('Отвергаем нулевую гипотезу: средние покупки в двух группах не равны')\n",
    "else:\n",
    "    print('Не отвергаем нулевую гипотезу: средние покупки в двух группах равны')"
   ]
  },
  {
   "cell_type": "markdown",
   "id": "68b55a67",
   "metadata": {},
   "source": [
    "Результаты теста показывают, что среднее кол-во покупок для данных каналов не равны, кол-во покупок с канала FB больше также на 0.4. Убрал выбросы, хвосты ушли, что привело к коррекции средних значений. Но на общий рузультат теста это не повлияло."
   ]
  },
  {
   "cell_type": "markdown",
   "id": "cdd0b88a",
   "metadata": {},
   "source": [
    "### Тест Манна-Уитни\n",
    "\n",
    "Возьмите задачу из задания 3 и проверьте гипотезу с помощью теста Манна-Уитни. Используйте не очищенные данные (с выбросами)."
   ]
  },
  {
   "cell_type": "code",
   "execution_count": 14,
   "id": "9246bb44",
   "metadata": {},
   "outputs": [
    {
     "name": "stderr",
     "output_type": "stream",
     "text": [
      "C:\\ProgramData\\Anaconda3\\lib\\site-packages\\seaborn\\distributions.py:2619: FutureWarning: `distplot` is a deprecated function and will be removed in a future version. Please adapt your code to use either `displot` (a figure-level function with similar flexibility) or `histplot` (an axes-level function for histograms).\n",
      "  warnings.warn(msg, FutureWarning)\n",
      "C:\\ProgramData\\Anaconda3\\lib\\site-packages\\seaborn\\distributions.py:2619: FutureWarning: `distplot` is a deprecated function and will be removed in a future version. Please adapt your code to use either `displot` (a figure-level function with similar flexibility) or `histplot` (an axes-level function for histograms).\n",
      "  warnings.warn(msg, FutureWarning)\n"
     ]
    },
    {
     "name": "stdout",
     "output_type": "stream",
     "text": [
      "Среднее кол-во покупок FB: 5.50\n",
      "Среднее кол-во покупок Instagroom: 5.08\n",
      "p-value: 0.00003\n",
      "Отвергаем нулевую гипотезу: Средние из двух выборок не равны\n"
     ]
    },
    {
     "data": {
      "image/png": "[encoded data removed]",
      "text/plain": [
       "<Figure size 432x288 with 1 Axes>"
      ]
     },
     "metadata": {
      "needs_background": "light"
     },
     "output_type": "display_data"
    }
   ],
   "source": [
    "# гипотезы\n",
    "Н0 = 'Средние из двух выборок равны'\n",
    "Н1 = 'Средние из двух выборок не равны'\n",
    "\n",
    "# урвоень значимости\n",
    "alpha = 0.05\n",
    "\n",
    "# подготовка данных\n",
    "purchases_report = purchases.groupby('user_id').agg({'ad_network': 'first', 'revenue': 'count'})\n",
    "for itm in purchases_report['ad_network'].unique():\n",
    "    current = purchases_report.query('ad_network == @itm')['revenue']\n",
    "    sns.distplot(current, label = itm)\n",
    "    print('Среднее кол-во покупок {}: {:.2f}'.format(itm, current.mean()))\n",
    "plt.legend(), plt.xlabel('Кол-во покупок'), plt.ylabel('Частота появления знаечния'), \n",
    "plt.title('Сравнение кол-во покупок по группам')\n",
    "\n",
    "report_inst = purchases_report.query('ad_network == \"FB\"')['revenue']\n",
    "report_FB = purchases_report.query('ad_network == \"Instagroom\"')['revenue']\n",
    "\n",
    "# проводим тест\n",
    "p_value = stats.mannwhitneyu(report_inst, report_FB, alternative = 'two-sided').pvalue\n",
    "print(f'p-value: {p_value:.5f}')\n",
    "\n",
    "# Аналализ результата\n",
    "if p_value < alpha:\n",
    "    print('Отвергаем нулевую гипотезу: Средние из двух выборок не равны')\n",
    "else:\n",
    "    print('Не отвергаем нулевую гипотезу: Средние из двух выборок равны')"
   ]
  },
  {
   "cell_type": "markdown",
   "id": "f7508e19",
   "metadata": {},
   "source": [
    "Тест Манна-Уитни больше похож на двустороний t-тест, в даннам тесте не нужно удалять выбросы"
   ]
  },
  {
   "cell_type": "code",
   "execution_count": null,
   "id": "b7a41273",
   "metadata": {},
   "outputs": [],
   "source": []
  }
 ],
 "metadata": {
  "kernelspec": {
   "display_name": "Python 3 (ipykernel)",
   "language": "python",
   "name": "python3"
  },
  "language_info": {
   "codemirror_mode": {
    "name": "ipython",
    "version": 3
   },
   "file_extension": ".py",
   "mimetype": "text/x-python",
   "name": "python",
   "nbconvert_exporter": "python",
   "pygments_lexer": "ipython3",
   "version": "3.9.12"
  }
 },
 "nbformat": 4,
 "nbformat_minor": 5
}
